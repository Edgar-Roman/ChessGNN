{
  "cells": [
    {
      "cell_type": "markdown",
      "metadata": {
        "id": "2mtgtvgKJaL-"
      },
      "source": [
        "# Chess Game Analysis Using Graph Neural Networks\n"
      ]
    },
    {
      "cell_type": "markdown",
      "metadata": {
        "id": "tGsqGPwaMWEP"
      },
      "source": [
        "## Handle Data"
      ]
    },
    {
      "cell_type": "code",
      "execution_count": 1,
      "metadata": {
        "colab": {
          "base_uri": "https://localhost:8080/"
        },
        "id": "ssp6yqaxJO9q",
        "outputId": "eb42dafc-3378-47e5-f928-095d54e1f97e"
      },
      "outputs": [
        {
          "name": "stdout",
          "output_type": "stream",
          "text": [
            "Mounted at /content/drive\n"
          ]
        }
      ],
      "source": [
        "from google.colab import drive\n",
        "\n",
        "drive.mount('/content/drive')"
      ]
    },
    {
      "cell_type": "code",
      "execution_count": 2,
      "metadata": {
        "colab": {
          "base_uri": "https://localhost:8080/"
        },
        "id": "deutiXVFL7aT",
        "outputId": "752a0781-ecc9-4d43-8358-e6489daca07b"
      },
      "outputs": [
        {
          "name": "stdout",
          "output_type": "stream",
          "text": [
            "/content/drive/MyDrive/cs224w-project\n"
          ]
        }
      ],
      "source": [
        "# cd into where the data file is stored\n",
        "%cd /content/drive/MyDrive/cs224w-project/"
      ]
    },
    {
      "cell_type": "code",
      "execution_count": 15,
      "metadata": {
        "id": "zNvo_h1jNs5O"
      },
      "outputs": [],
      "source": [
        "import numpy as np\n",
        "import pandas as pd\n",
        "import json\n",
        "import re\n",
        "import io\n",
        "import zipfile"
      ]
    },
    {
      "cell_type": "code",
      "execution_count": 4,
      "metadata": {
        "id": "WMyLw4D6uC3o"
      },
      "outputs": [],
      "source": [
        "move_pattern = re.compile(r\"W(\\d+)\\.([^\\s]+)\\s+B\\1\\.([^\\s]+)\")\n",
        "\n",
        "def process_game_data(line):\n",
        "    \"\"\"\n",
        "    Process the line of game data\n",
        "    \"\"\"\n",
        "    metadata, moves_str = line.split('###')\n",
        "\n",
        "    metadata_parts = metadata.strip().split()\n",
        "    game_data = {\n",
        "        'position': int(metadata_parts[0]),\n",
        "        'date': metadata_parts[1],\n",
        "        'result': metadata_parts[2],\n",
        "        'welo': int(metadata_parts[3]) if metadata_parts[3].isdigit() else None,\n",
        "        'belo': int(metadata_parts[4]) if metadata_parts[4].isdigit() else None,\n",
        "        'len': int(metadata_parts[5]),\n",
        "        'date_c': metadata_parts[6] == 'date_true',\n",
        "        'resu_c': metadata_parts[7] == 'result_true',\n",
        "        'welo_c': metadata_parts[8] == 'welo_true',\n",
        "        'belo_c': metadata_parts[9] == 'belo_true',\n",
        "        'edate_c': metadata_parts[10] == 'edate_true',\n",
        "        'setup': metadata_parts[11] == 'setup_true',\n",
        "        'fen': metadata_parts[12] == 'fen_true',\n",
        "        'resu2_c': metadata_parts[13] == 'result2_true',\n",
        "        'oyrange': metadata_parts[14] == 'oyrange_true',\n",
        "        'bad_len': metadata_parts[15] == 'blen_true'\n",
        "    }\n",
        "\n",
        "    # process game moves\n",
        "    moves_cleaned = []\n",
        "    for match in move_pattern.finditer(moves_str):\n",
        "        move_number = match.group(1)\n",
        "        white_move = match.group(2)\n",
        "        black_move = match.group(3)\n",
        "        moves_cleaned.append({\"white\": f\"W{move_number}.{white_move}\", \"black\": f\"B{move_number}.{black_move}\"})\n",
        "\n",
        "    game_data['moves'] = moves_cleaned\n",
        "\n",
        "    return game_data\n",
        "\n",
        "\n",
        "def save_to_json(iterable_data, output_path):\n",
        "    \"\"\"\n",
        "    Save processed info into a JSON file incrementally\n",
        "    \"\"\"\n",
        "    with open(output_path, 'w') as file:\n",
        "        file.write('[')\n",
        "        first = True\n",
        "        for data in iterable_data:\n",
        "            if not first:\n",
        "                file.write(',')\n",
        "            else:\n",
        "                first = False\n",
        "            json.dump(data, file, indent=4)\n",
        "        file.write(']')\n",
        "\n",
        "\n",
        "def process_zip(zip_path, output_path):\n",
        "    \"\"\"\n",
        "    Process zip file with a data txt file stored in it and save to JSON incrementally\n",
        "    \"\"\"\n",
        "    with zipfile.ZipFile(zip_path) as z:\n",
        "        txt_file_name = z.namelist()[0]\n",
        "        with z.open(txt_file_name) as file:\n",
        "            content = io.TextIOWrapper(file)\n",
        "            with open(output_path, 'w') as output_file:\n",
        "                output_file.write('[')\n",
        "                first = True\n",
        "                for line in content:\n",
        "                    if not line.startswith('#') and line.strip():\n",
        "                        if not first:\n",
        "                            output_file.write(',')\n",
        "                        else:\n",
        "                            first = False\n",
        "                        game_data = process_game_data(line)\n",
        "                        json.dump(game_data, output_file, indent=4)\n",
        "                output_file.write(']')\n"
      ]
    },
    {
      "cell_type": "code",
      "execution_count": null,
      "metadata": {
        "id": "cHMa8ugODcsG"
      },
      "outputs": [],
      "source": [
        "input_zip_path = '/content/drive/MyDrive/cs224w-project/chess_db.zip'\n",
        "output_file_path = 'processed_chess_data.json'\n",
        "\n",
        "process_zip(input_zip_path, output_file_path)\n",
        "print(f\"Processed data has been saved to {output_file_path}\")"
      ]
    },
    {
      "cell_type": "markdown",
      "metadata": {
        "id": "a03h_cNvSpsm"
      },
      "source": [
        "#### Preview Parsed Data (from json)"
      ]
    },
    {
      "cell_type": "code",
      "execution_count": 6,
      "metadata": {
        "colab": {
          "base_uri": "https://localhost:8080/"
        },
        "id": "5P-He8bsUiHG",
        "outputId": "abef8582-8972-4183-9b5b-f0ddf63e7555"
      },
      "outputs": [
        {
          "name": "stdout",
          "output_type": "stream",
          "text": [
            "[{\n",
            "    \"position\": 1,\n",
            "    \"date\": \"2000.03.14\",\n",
            "    \"result\": \"1-0\",\n",
            "    \"welo\": 2851,\n",
            "    \"belo\": null,\n",
            "    \"len\": 67,\n",
            "    \"date_c\": false,\n",
            "    \"resu_c\": false,\n",
            "    \"welo_c\": false,\n",
            "    \"belo_c\": true,\n",
            "    \"edate_c\": true,\n",
            "    \"setup\": false,\n",
            "    \"fen\": false,\n",
            "    \"resu2_c\": false,\n",
            "    \"oyrange\": false,\n",
            "    \"bad_len\": false,\n",
            "    \"moves\": [\n",
            "        {\n",
            "            \"white\": \"W1.d4\",\n",
            "            \"black\": \"B1.d5\"\n",
            "        },\n",
            "        {\n",
            "            \"white\": \"W2.c4\",\n",
            "            \"black\": \"B2.e6\"\n",
            "        },\n",
            "        {\n",
            "            \"white\": \"W3.Nc3\",\n",
            "            \"black\": \"B3.Nf6\"\n",
            "        },\n",
            "        {\n",
            "            \"white\": \"W4.cxd5\",\n",
            "            \"black\": \"B4.exd5\"\n",
            "        },\n",
            "        {\n",
            "            \"white\": \"W5.Bg5\",\n",
            "            \"black\": \"B5.Be7\"\n",
            "        },\n",
            "        {\n",
            "            \"white\": \"W6.e3\",\n",
            "            \"black\": \"B6.Ne4\"\n",
            "        },\n",
            "        {\n",
            "            \"white\": \"W7.Bxe7\",\n",
            "            \"black\": \"B7.Nxc3\"\n",
            "        },\n",
            "        {\n",
            "            \"white\": \"W8.Bxd8\",\n",
            "            \"black\": \"B8.Nxd1\"\n",
            "        },\n",
            "        {\n",
            "            \"white\": \"W9.Bxc7\",\n",
            "            \"black\": \"B9.Nxb2\"\n",
            "        },\n",
            "        {\n",
            "            \"white\": \"W10.Rb1\",\n",
            "            \"black\": \"B10.Nc4\"\n",
            "        },\n",
            "        {\n",
            "            \"white\": \"W11.Bxc4\",\n",
            "            \"black\": \"B11.dxc4\"\n",
            "        },\n",
            "        {\n",
            "            \"white\": \"W12.Ne2\",\n",
            "            \"black\": \"B12.O-O\"\n",
            "        },\n",
            "        {\n",
            "            \"white\": \"W13.Nc3\",\n",
            "            \"black\": \"B13.b6\"\n",
            "        },\n",
            "        {\n",
            "            \"white\": \"W14.d5\",\n",
            "            \"black\": \"B14.Na6\"\n",
            "        },\n",
            "        {\n",
            "            \"white\": \"W15.Bd6\",\n",
            "            \"black\": \"B15.Rd8\"\n",
            "        },\n",
            "        {\n",
            "            \"white\": \"W16.Ba3\",\n",
            "            \"black\": \"B16.Bb7\"\n",
            "        },\n",
            "        {\n",
            "            \"white\": \"W17.e4\",\n",
            "            \"black\": \"B17.f6\"\n",
            "        },\n",
            "        {\n",
            "            \"white\": \"W18.Ke2\",\n",
            "            \"black\": \"B18.Nc7\"\n",
            "        },\n",
            "        {\n",
            "            \"white\": \"W19.Rhd1\",\n",
            "            \"black\": \"B19.Ba6\"\n",
            "        },\n",
            "        {\n",
            "            \"white\": \"W20.Ke3\",\n",
            "            \"black\": \"B20.Kf7\"\n",
            "        },\n",
            "        {\n",
            "            \"white\": \"W21.g4\",\n"
          ]
        }
      ],
      "source": [
        "N = 100\n",
        "with open(\"processed_chess_data.json\") as f:\n",
        "    for i in range(0, N):\n",
        "        print(f.readline(), end = '')"
      ]
    },
    {
      "cell_type": "markdown",
      "metadata": {
        "id": "9Kh7jcjaMEdE"
      },
      "source": [
        "### Define & Transform into Graph Data"
      ]
    },
    {
      "cell_type": "markdown",
      "metadata": {
        "id": "_Svf0fzjfQxM"
      },
      "source": [
        "Chess Board:"
      ]
    },
    {
      "cell_type": "code",
      "execution_count": 21,
      "metadata": {
        "colab": {
          "base_uri": "https://localhost:8080/"
        },
        "id": "_h3njUYdgs5l",
        "outputId": "9b2e5d23-4dd4-41cf-c714-297b0f95b745"
      },
      "outputs": [
        {
          "name": "stdout",
          "output_type": "stream",
          "text": [
            "Requirement already satisfied: numpy in /usr/local/lib/python3.10/dist-packages (1.26.1)\n"
          ]
        }
      ],
      "source": [
        "!pip3 install -U numpy"
      ]
    },
    {
      "cell_type": "code",
      "execution_count": 22,
      "metadata": {
        "colab": {
          "base_uri": "https://localhost:8080/",
          "height": 322
        },
        "id": "rdbwkU9ngAE_",
        "outputId": "349bdb4b-4996-43f1-c765-41de1ccdce87"
      },
      "outputs": [
        {
          "ename": "ValueError",
          "evalue": "ignored",
          "output_type": "error",
          "traceback": [
            "\u001b[0;31m---------------------------------------------------------------------------\u001b[0m",
            "\u001b[0;31mValueError\u001b[0m                                Traceback (most recent call last)",
            "\u001b[0;32m<ipython-input-22-eea3cb383446>\u001b[0m in \u001b[0;36m<cell line: 2>\u001b[0;34m()\u001b[0m\n\u001b[1;32m      1\u001b[0m \u001b[0;32mimport\u001b[0m \u001b[0mos\u001b[0m\u001b[0;34m\u001b[0m\u001b[0;34m\u001b[0m\u001b[0m\n\u001b[0;32m----> 2\u001b[0;31m \u001b[0;32mimport\u001b[0m \u001b[0mtorch\u001b[0m\u001b[0;34m\u001b[0m\u001b[0;34m\u001b[0m\u001b[0m\n\u001b[0m",
            "\u001b[0;32m/usr/local/lib/python3.10/dist-packages/torch/__init__.py\u001b[0m in \u001b[0;36m<module>\u001b[0;34m\u001b[0m\n\u001b[1;32m    233\u001b[0m     \u001b[0;32mif\u001b[0m \u001b[0mUSE_GLOBAL_DEPS\u001b[0m\u001b[0;34m:\u001b[0m\u001b[0;34m\u001b[0m\u001b[0;34m\u001b[0m\u001b[0m\n\u001b[1;32m    234\u001b[0m         \u001b[0m_load_global_deps\u001b[0m\u001b[0;34m(\u001b[0m\u001b[0;34m)\u001b[0m\u001b[0;34m\u001b[0m\u001b[0;34m\u001b[0m\u001b[0m\n\u001b[0;32m--> 235\u001b[0;31m     \u001b[0;32mfrom\u001b[0m \u001b[0mtorch\u001b[0m\u001b[0;34m.\u001b[0m\u001b[0m_C\u001b[0m \u001b[0;32mimport\u001b[0m \u001b[0;34m*\u001b[0m  \u001b[0;31m# noqa: F403\u001b[0m\u001b[0;34m\u001b[0m\u001b[0;34m\u001b[0m\u001b[0m\n\u001b[0m\u001b[1;32m    236\u001b[0m \u001b[0;34m\u001b[0m\u001b[0m\n\u001b[1;32m    237\u001b[0m \u001b[0;31m# Appease the type checker; ordinarily this binding is inserted by the\u001b[0m\u001b[0;34m\u001b[0m\u001b[0;34m\u001b[0m\u001b[0m\n",
            "\u001b[0;31mValueError\u001b[0m: module functions cannot set METH_CLASS or METH_STATIC"
          ]
        }
      ],
      "source": [
        "import torch\n",
        "from torch_geometric.data import Data"
      ]
    },
    {
      "cell_type": "code",
      "execution_count": null,
      "metadata": {
        "id": "E-aaYqL-advv"
      },
      "outputs": [],
      "source": [
        "def board_to_graph(board_state):\n",
        "    piece_to_int = {'K': 1, 'Q': 2, 'R': 3, 'B': 4, 'N': 5, 'P': 6,\n",
        "                    'k': -1, 'q': -2, 'r': -3, 'b': -4, 'n': -5, 'p': -6}\n",
        "\n",
        "    node_features = []\n",
        "    positions = []\n",
        "    # Encode chess piece type and position\n",
        "    # TODO: also incorporate color\n",
        "    for i, piece in enumerate(board_state):\n",
        "        if piece != '.':\n",
        "            position_vector = torch.zeros(64)\n",
        "            position_vector[i] = 1\n",
        "\n",
        "            # feature vector with piece type and position\n",
        "            piece_vector = torch.tensor([piece_to_int[piece]])\n",
        "            node_feature = torch.cat((piece_vector, position_vector), 0)\n",
        "            node_features.append(node_feature)\n",
        "\n",
        "            # Record the position of the piece\n",
        "            positions.append(i)\n",
        "    node_features = torch.stack(node_features)\n",
        "\n",
        "    # Create the edge index for relationships between pieces\n",
        "    edge_index = []\n",
        "    for i in range(len(positions)):\n",
        "        for j in range(i + 1, len(positions)):\n",
        "            edge_index.append([i, j])\n",
        "            edge_index.append([j, i])\n",
        "\n",
        "    edge_index = torch.tensor(edge_index, dtype=torch.long).t().contiguous()\n",
        "    data = Data(x=node_features, edge_index=edge_index)\n",
        "\n",
        "    return data\n",
        "\n",
        "# Mock-up board state as a list of pieces ('.' denotes empty squares)\n",
        "# A real implementation would convert a FEN string to a full board state\n",
        "mock_board_state = ['R', '.', '.', '.', 'K', '.', '.', 'R', '.', 'P', '.', 'N', '.', 'Q', 'P', '.',\n",
        "                    '.', '.', '.', '.', '.', '.', '.', '.', '.', '.', '.', '.', '.', '.', '.',\n",
        "                    '.', '.', '.', '.', '.', '.', '.', '.', '.', '.', '.', '.', '.', '.', '.',\n",
        "                    'p', 'q', 'n', '.', 'p', '.', '.', '.', '.', '.', '.', '.', '.', '.', '.', '.',\n",
        "                    'r', '.', '.', '.', 'k', '.', '.', 'r']\n",
        "\n",
        "graph_data = board_to_graph(mock_board_state)\n"
      ]
    },
    {
      "cell_type": "code",
      "execution_count": null,
      "metadata": {
        "id": "3bLynElAfgpo"
      },
      "outputs": [],
      "source": []
    }
  ],
  "metadata": {
    "colab": {
      "provenance": []
    },
    "kernelspec": {
      "display_name": "Python 3",
      "name": "python3"
    },
    "language_info": {
      "name": "python"
    }
  },
  "nbformat": 4,
  "nbformat_minor": 0
}
