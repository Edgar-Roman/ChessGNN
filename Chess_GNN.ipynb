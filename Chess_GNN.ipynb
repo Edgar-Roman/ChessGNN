{
  "nbformat": 4,
  "nbformat_minor": 0,
  "metadata": {
    "colab": {
      "provenance": []
    },
    "kernelspec": {
      "name": "python3",
      "display_name": "Python 3"
    },
    "language_info": {
      "name": "python"
    }
  },
  "cells": [
    {
      "cell_type": "markdown",
      "source": [
        "# Chess Game Analysis Using Graph Neural Networks\n"
      ],
      "metadata": {
        "id": "2mtgtvgKJaL-"
      }
    },
    {
      "cell_type": "markdown",
      "source": [
        "## Handle Data"
      ],
      "metadata": {
        "id": "tGsqGPwaMWEP"
      }
    },
    {
      "cell_type": "code",
      "execution_count": 2,
      "metadata": {
        "colab": {
          "base_uri": "https://localhost:8080/"
        },
        "id": "ssp6yqaxJO9q",
        "outputId": "8474c513-a0e1-46a2-9825-485b8fd82e59"
      },
      "outputs": [
        {
          "output_type": "stream",
          "name": "stdout",
          "text": [
            "Drive already mounted at /content/drive; to attempt to forcibly remount, call drive.mount(\"/content/drive\", force_remount=True).\n"
          ]
        }
      ],
      "source": [
        "from google.colab import drive\n",
        "\n",
        "drive.mount('/content/drive')"
      ]
    },
    {
      "cell_type": "code",
      "source": [
        "# cd into where the data file is stored\n",
        "%cd /content/drive/MyDrive/cs224w-project/"
      ],
      "metadata": {
        "colab": {
          "base_uri": "https://localhost:8080/"
        },
        "id": "deutiXVFL7aT",
        "outputId": "66395b8d-54a4-4160-d848-e8ed89acba29"
      },
      "execution_count": 3,
      "outputs": [
        {
          "output_type": "stream",
          "name": "stdout",
          "text": [
            "/content/drive/MyDrive/cs224w-project\n"
          ]
        }
      ]
    },
    {
      "cell_type": "code",
      "source": [
        "import numpy as np\n",
        "import pandas as pd\n",
        "import json\n",
        "import re\n",
        "import io\n",
        "import zipfile"
      ],
      "metadata": {
        "id": "zNvo_h1jNs5O"
      },
      "execution_count": 4,
      "outputs": []
    },
    {
      "cell_type": "code",
      "source": [
        "move_pattern = re.compile(r\"W(\\d+)\\.([^\\s]+)\\s+B\\1\\.([^\\s]+)\")\n",
        "\n",
        "def process_game_data(line):\n",
        "    \"\"\"\n",
        "    Process the line of game data\n",
        "    \"\"\"\n",
        "    metadata, moves_str = line.split('###')\n",
        "\n",
        "    metadata_parts = metadata.strip().split()\n",
        "    game_data = {\n",
        "        'position': int(metadata_parts[0]),\n",
        "        'date': metadata_parts[1],\n",
        "        'result': metadata_parts[2],\n",
        "        'welo': int(metadata_parts[3]) if metadata_parts[3].isdigit() else None,\n",
        "        'belo': int(metadata_parts[4]) if metadata_parts[4].isdigit() else None,\n",
        "        'len': int(metadata_parts[5]),\n",
        "        'date_c': metadata_parts[6] == 'date_true',\n",
        "        'resu_c': metadata_parts[7] == 'result_true',\n",
        "        'welo_c': metadata_parts[8] == 'welo_true',\n",
        "        'belo_c': metadata_parts[9] == 'belo_true',\n",
        "        'edate_c': metadata_parts[10] == 'edate_true',\n",
        "        'setup': metadata_parts[11] == 'setup_true',\n",
        "        'fen': metadata_parts[12] == 'fen_true',\n",
        "        'resu2_c': metadata_parts[13] == 'result2_true',\n",
        "        'oyrange': metadata_parts[14] == 'oyrange_true',\n",
        "        'bad_len': metadata_parts[15] == 'blen_true'\n",
        "    }\n",
        "\n",
        "    # process game moves\n",
        "    moves_cleaned = []\n",
        "    for match in move_pattern.finditer(moves_str):\n",
        "        move_number = match.group(1)\n",
        "        white_move = match.group(2)\n",
        "        black_move = match.group(3)\n",
        "        moves_cleaned.append({\"white\": f\"W{move_number}.{white_move}\", \"black\": f\"B{move_number}.{black_move}\"})\n",
        "\n",
        "    game_data['moves'] = moves_cleaned\n",
        "\n",
        "    return game_data\n",
        "\n",
        "\n",
        "def save_to_json(iterable_data, output_path):\n",
        "    \"\"\"\n",
        "    Save processed info into a JSON file incrementally\n",
        "    \"\"\"\n",
        "    with open(output_path, 'w') as file:\n",
        "        file.write('[')\n",
        "        first = True\n",
        "        for data in iterable_data:\n",
        "            if not first:\n",
        "                file.write(',')\n",
        "            else:\n",
        "                first = False\n",
        "            json.dump(data, file, indent=4)\n",
        "        file.write(']')\n",
        "\n",
        "\n",
        "def process_zip(zip_path, output_path):\n",
        "    \"\"\"\n",
        "    Process zip file with a data txt file stored in it and save to JSON incrementally\n",
        "    \"\"\"\n",
        "    with zipfile.ZipFile(zip_path) as z:\n",
        "        txt_file_name = z.namelist()[0]\n",
        "        with z.open(txt_file_name) as file:\n",
        "            content = io.TextIOWrapper(file)\n",
        "            with open(output_path, 'w') as output_file:\n",
        "                output_file.write('[')\n",
        "                first = True\n",
        "                for line in content:\n",
        "                    if not line.startswith('#') and line.strip():\n",
        "                        if not first:\n",
        "                            output_file.write(',')\n",
        "                        else:\n",
        "                            first = False\n",
        "                        game_data = process_game_data(line)\n",
        "                        json.dump(game_data, output_file, indent=4)\n",
        "                output_file.write(']')\n"
      ],
      "metadata": {
        "id": "WMyLw4D6uC3o"
      },
      "execution_count": 5,
      "outputs": []
    },
    {
      "cell_type": "code",
      "source": [
        "input_zip_path = '/content/drive/MyDrive/cs224w-project/chess_db.zip'\n",
        "output_file_path = 'processed_chess_data.json'\n",
        "\n",
        "process_zip(input_zip_path, output_file_path)\n",
        "print(f\"Processed data has been saved to {output_file_path}\")"
      ],
      "metadata": {
        "id": "cHMa8ugODcsG",
        "colab": {
          "base_uri": "https://localhost:8080/"
        },
        "outputId": "5ae2b3e5-38b5-4ccf-f6a4-e354f865ff38"
      },
      "execution_count": 7,
      "outputs": [
        {
          "output_type": "stream",
          "name": "stdout",
          "text": [
            "Processed data has been saved to processed_chess_data.json\n"
          ]
        }
      ]
    },
    {
      "cell_type": "code",
      "source": [
        "N = 100\n",
        "with open(\"processed_chess_data.json\") as f:\n",
        "    for i in range(0, N):\n",
        "        print(f.readline(), end = '')"
      ],
      "metadata": {
        "colab": {
          "base_uri": "https://localhost:8080/"
        },
        "id": "5P-He8bsUiHG",
        "outputId": "cccafde8-1a30-47ec-b746-eee07aca0fde"
      },
      "execution_count": 8,
      "outputs": [
        {
          "output_type": "stream",
          "name": "stdout",
          "text": [
            "[{\n",
            "    \"position\": 1,\n",
            "    \"date\": \"2000.03.14\",\n",
            "    \"result\": \"1-0\",\n",
            "    \"welo\": 2851,\n",
            "    \"belo\": null,\n",
            "    \"len\": 67,\n",
            "    \"date_c\": false,\n",
            "    \"resu_c\": false,\n",
            "    \"welo_c\": false,\n",
            "    \"belo_c\": true,\n",
            "    \"edate_c\": true,\n",
            "    \"setup\": false,\n",
            "    \"fen\": false,\n",
            "    \"resu2_c\": false,\n",
            "    \"oyrange\": false,\n",
            "    \"bad_len\": false,\n",
            "    \"moves\": [\n",
            "        {\n",
            "            \"white\": \"W1.d4\",\n",
            "            \"black\": \"B1.d5\"\n",
            "        },\n",
            "        {\n",
            "            \"white\": \"W2.c4\",\n",
            "            \"black\": \"B2.e6\"\n",
            "        },\n",
            "        {\n",
            "            \"white\": \"W3.Nc3\",\n",
            "            \"black\": \"B3.Nf6\"\n",
            "        },\n",
            "        {\n",
            "            \"white\": \"W4.cxd5\",\n",
            "            \"black\": \"B4.exd5\"\n",
            "        },\n",
            "        {\n",
            "            \"white\": \"W5.Bg5\",\n",
            "            \"black\": \"B5.Be7\"\n",
            "        },\n",
            "        {\n",
            "            \"white\": \"W6.e3\",\n",
            "            \"black\": \"B6.Ne4\"\n",
            "        },\n",
            "        {\n",
            "            \"white\": \"W7.Bxe7\",\n",
            "            \"black\": \"B7.Nxc3\"\n",
            "        },\n",
            "        {\n",
            "            \"white\": \"W8.Bxd8\",\n",
            "            \"black\": \"B8.Nxd1\"\n",
            "        },\n",
            "        {\n",
            "            \"white\": \"W9.Bxc7\",\n",
            "            \"black\": \"B9.Nxb2\"\n",
            "        },\n",
            "        {\n",
            "            \"white\": \"W10.Rb1\",\n",
            "            \"black\": \"B10.Nc4\"\n",
            "        },\n",
            "        {\n",
            "            \"white\": \"W11.Bxc4\",\n",
            "            \"black\": \"B11.dxc4\"\n",
            "        },\n",
            "        {\n",
            "            \"white\": \"W12.Ne2\",\n",
            "            \"black\": \"B12.O-O\"\n",
            "        },\n",
            "        {\n",
            "            \"white\": \"W13.Nc3\",\n",
            "            \"black\": \"B13.b6\"\n",
            "        },\n",
            "        {\n",
            "            \"white\": \"W14.d5\",\n",
            "            \"black\": \"B14.Na6\"\n",
            "        },\n",
            "        {\n",
            "            \"white\": \"W15.Bd6\",\n",
            "            \"black\": \"B15.Rd8\"\n",
            "        },\n",
            "        {\n",
            "            \"white\": \"W16.Ba3\",\n",
            "            \"black\": \"B16.Bb7\"\n",
            "        },\n",
            "        {\n",
            "            \"white\": \"W17.e4\",\n",
            "            \"black\": \"B17.f6\"\n",
            "        },\n",
            "        {\n",
            "            \"white\": \"W18.Ke2\",\n",
            "            \"black\": \"B18.Nc7\"\n",
            "        },\n",
            "        {\n",
            "            \"white\": \"W19.Rhd1\",\n",
            "            \"black\": \"B19.Ba6\"\n",
            "        },\n",
            "        {\n",
            "            \"white\": \"W20.Ke3\",\n",
            "            \"black\": \"B20.Kf7\"\n",
            "        },\n",
            "        {\n",
            "            \"white\": \"W21.g4\",\n"
          ]
        }
      ]
    },
    {
      "cell_type": "code",
      "source": [],
      "metadata": {
        "id": "nRyVTuspjGqw"
      },
      "execution_count": null,
      "outputs": []
    }
  ]
}