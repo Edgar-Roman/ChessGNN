{
  "nbformat": 4,
  "nbformat_minor": 0,
  "metadata": {
    "colab": {
      "provenance": [],
      "gpuType": "T4"
    },
    "kernelspec": {
      "name": "python3",
      "display_name": "Python 3"
    },
    "language_info": {
      "name": "python"
    },
    "accelerator": "GPU"
  },
  "cells": [
    {
      "cell_type": "code",
      "source": [
        "from google.colab import drive\n",
        "!pip install torch_scatter\n",
        "!pip install torch_geometric\n",
        "\n",
        "drive.mount('/content/drive')\n",
        "\n",
        "# cd into where the data file is stored\n",
        "%cd /content/drive/MyDrive/cs224w-project/\n",
        "\n",
        "!pip install python-chess"
      ],
      "metadata": {
        "id": "9xa3JN3qIbAA",
        "colab": {
          "base_uri": "https://localhost:8080/"
        },
        "outputId": "1a9517cc-5806-4c8c-84cb-bc61fb729c68"
      },
      "execution_count": 3,
      "outputs": [
        {
          "output_type": "stream",
          "name": "stdout",
          "text": [
            "Requirement already satisfied: torch_scatter in /usr/local/lib/python3.10/dist-packages (2.1.2)\n",
            "Requirement already satisfied: torch_geometric in /usr/local/lib/python3.10/dist-packages (2.4.0)\n",
            "Requirement already satisfied: tqdm in /usr/local/lib/python3.10/dist-packages (from torch_geometric) (4.66.1)\n",
            "Requirement already satisfied: numpy in /usr/local/lib/python3.10/dist-packages (from torch_geometric) (1.23.5)\n",
            "Requirement already satisfied: scipy in /usr/local/lib/python3.10/dist-packages (from torch_geometric) (1.11.4)\n",
            "Requirement already satisfied: jinja2 in /usr/local/lib/python3.10/dist-packages (from torch_geometric) (3.1.2)\n",
            "Requirement already satisfied: requests in /usr/local/lib/python3.10/dist-packages (from torch_geometric) (2.31.0)\n",
            "Requirement already satisfied: pyparsing in /usr/local/lib/python3.10/dist-packages (from torch_geometric) (3.1.1)\n",
            "Requirement already satisfied: scikit-learn in /usr/local/lib/python3.10/dist-packages (from torch_geometric) (1.2.2)\n",
            "Requirement already satisfied: psutil>=5.8.0 in /usr/local/lib/python3.10/dist-packages (from torch_geometric) (5.9.5)\n",
            "Requirement already satisfied: MarkupSafe>=2.0 in /usr/local/lib/python3.10/dist-packages (from jinja2->torch_geometric) (2.1.3)\n",
            "Requirement already satisfied: charset-normalizer<4,>=2 in /usr/local/lib/python3.10/dist-packages (from requests->torch_geometric) (3.3.2)\n",
            "Requirement already satisfied: idna<4,>=2.5 in /usr/local/lib/python3.10/dist-packages (from requests->torch_geometric) (3.6)\n",
            "Requirement already satisfied: urllib3<3,>=1.21.1 in /usr/local/lib/python3.10/dist-packages (from requests->torch_geometric) (2.0.7)\n",
            "Requirement already satisfied: certifi>=2017.4.17 in /usr/local/lib/python3.10/dist-packages (from requests->torch_geometric) (2023.11.17)\n",
            "Requirement already satisfied: joblib>=1.1.1 in /usr/local/lib/python3.10/dist-packages (from scikit-learn->torch_geometric) (1.3.2)\n",
            "Requirement already satisfied: threadpoolctl>=2.0.0 in /usr/local/lib/python3.10/dist-packages (from scikit-learn->torch_geometric) (3.2.0)\n",
            "Drive already mounted at /content/drive; to attempt to forcibly remount, call drive.mount(\"/content/drive\", force_remount=True).\n",
            "/content/drive/MyDrive/cs224w-project\n",
            "Requirement already satisfied: python-chess in /usr/local/lib/python3.10/dist-packages (1.999)\n",
            "Requirement already satisfied: chess<2,>=1 in /usr/local/lib/python3.10/dist-packages (from python-chess) (1.10.0)\n",
            "Requirement already satisfied: torch_scatter in /usr/local/lib/python3.10/dist-packages (2.1.2)\n",
            "Requirement already satisfied: torch_geometric in /usr/local/lib/python3.10/dist-packages (2.4.0)\n",
            "Requirement already satisfied: tqdm in /usr/local/lib/python3.10/dist-packages (from torch_geometric) (4.66.1)\n",
            "Requirement already satisfied: numpy in /usr/local/lib/python3.10/dist-packages (from torch_geometric) (1.23.5)\n",
            "Requirement already satisfied: scipy in /usr/local/lib/python3.10/dist-packages (from torch_geometric) (1.11.4)\n",
            "Requirement already satisfied: jinja2 in /usr/local/lib/python3.10/dist-packages (from torch_geometric) (3.1.2)\n",
            "Requirement already satisfied: requests in /usr/local/lib/python3.10/dist-packages (from torch_geometric) (2.31.0)\n",
            "Requirement already satisfied: pyparsing in /usr/local/lib/python3.10/dist-packages (from torch_geometric) (3.1.1)\n",
            "Requirement already satisfied: scikit-learn in /usr/local/lib/python3.10/dist-packages (from torch_geometric) (1.2.2)\n",
            "Requirement already satisfied: psutil>=5.8.0 in /usr/local/lib/python3.10/dist-packages (from torch_geometric) (5.9.5)\n",
            "Requirement already satisfied: MarkupSafe>=2.0 in /usr/local/lib/python3.10/dist-packages (from jinja2->torch_geometric) (2.1.3)\n",
            "Requirement already satisfied: charset-normalizer<4,>=2 in /usr/local/lib/python3.10/dist-packages (from requests->torch_geometric) (3.3.2)\n",
            "Requirement already satisfied: idna<4,>=2.5 in /usr/local/lib/python3.10/dist-packages (from requests->torch_geometric) (3.6)\n",
            "Requirement already satisfied: urllib3<3,>=1.21.1 in /usr/local/lib/python3.10/dist-packages (from requests->torch_geometric) (2.0.7)\n",
            "Requirement already satisfied: certifi>=2017.4.17 in /usr/local/lib/python3.10/dist-packages (from requests->torch_geometric) (2023.11.17)\n",
            "Requirement already satisfied: joblib>=1.1.1 in /usr/local/lib/python3.10/dist-packages (from scikit-learn->torch_geometric) (1.3.2)\n",
            "Requirement already satisfied: threadpoolctl>=2.0.0 in /usr/local/lib/python3.10/dist-packages (from scikit-learn->torch_geometric) (3.2.0)\n",
            "Drive already mounted at /content/drive; to attempt to forcibly remount, call drive.mount(\"/content/drive\", force_remount=True).\n",
            "/content/drive/MyDrive/cs224w-project\n",
            "Requirement already satisfied: python-chess in /usr/local/lib/python3.10/dist-packages (1.999)\n",
            "Requirement already satisfied: chess<2,>=1 in /usr/local/lib/python3.10/dist-packages (from python-chess) (1.10.0)\n"
          ]
        }
      ]
    },
    {
      "cell_type": "code",
      "source": [
        "#Extract Features\n",
        "import chess\n",
        "import torch\n",
        "\n",
        "def calculate_material_balance(board):\n",
        "    piece_values = {chess.PAWN: 1, chess.KNIGHT: 3, chess.BISHOP: 3, chess.ROOK: 5, chess.QUEEN: 9, chess.KING: 0}\n",
        "    material_balance = 0\n",
        "    for piece_type in piece_values:\n",
        "        material_balance += len(board.pieces(piece_type, chess.WHITE)) * piece_values[piece_type]\n",
        "        material_balance -= len(board.pieces(piece_type, chess.BLACK)) * piece_values[piece_type]\n",
        "    return material_balance\n",
        "\n",
        "def calculate_pawn_structure(board):\n",
        "    # For simplicity, just counting the number of pawns for now.\n",
        "    white_pawns = len(board.pieces(chess.PAWN, chess.WHITE))\n",
        "    black_pawns = len(board.pieces(chess.PAWN, chess.BLACK))\n",
        "    return white_pawns - black_pawns\n",
        "\n",
        "def calculate_mobility(board):\n",
        "    return board.legal_moves.count()\n",
        "\n",
        "def get_squares_around(square):\n",
        "    \"\"\" Get the squares around a given square. \"\"\"\n",
        "    surrounding_squares = []\n",
        "    file = chess.square_file(square)\n",
        "    rank = chess.square_rank(square)\n",
        "\n",
        "    for f in range(file - 1, file + 2):  # File of the square and its adjacent files\n",
        "        for r in range(rank - 1, rank + 2):  # Rank of the square and its adjacent ranks\n",
        "            if 0 <= f <= 7 and 0 <= r <= 7:  # Ensure the file and rank are within bounds\n",
        "                adjacent_square = chess.square(f, r)\n",
        "                if adjacent_square != square:\n",
        "                    surrounding_squares.append(adjacent_square)\n",
        "\n",
        "    return surrounding_squares\n",
        "\n",
        "def evaluate_king_safety(board):\n",
        "    \"\"\" Evaluate the safety of the king based on surrounding pawns. \"\"\"\n",
        "    king_safety = 0\n",
        "    for color in [chess.WHITE, chess.BLACK]:\n",
        "        king_square = board.king(color)\n",
        "        pawn_squares = board.pieces(chess.PAWN, color)\n",
        "        safety_count = sum(1 for sq in get_squares_around(king_square) if sq in pawn_squares)\n",
        "        king_safety += safety_count if color == chess.WHITE else -safety_count\n",
        "    return king_safety\n",
        "\n",
        "\n",
        "\n",
        "def control_of_center(board):\n",
        "    center_squares = [chess.E4, chess.D4, chess.E5, chess.D5]\n",
        "    center_control = 0\n",
        "    for square in center_squares:\n",
        "        if board.is_attacked_by(chess.WHITE, square):\n",
        "            center_control += 1\n",
        "        if board.is_attacked_by(chess.BLACK, square):\n",
        "            center_control -= 1\n",
        "    return center_control\n",
        "\n",
        "def piece_development(board):\n",
        "    \"\"\" Calculate the development of pieces from their starting positions. \"\"\"\n",
        "    development = 0\n",
        "\n",
        "    # Initial positions for non-pawn pieces except the king.\n",
        "    initial_positions = {\n",
        "        chess.WHITE: [chess.A1, chess.B1, chess.C1, chess.D1, chess.E1, chess.F1, chess.G1, chess.H1],\n",
        "        chess.BLACK: [chess.A8, chess.B8, chess.C8, chess.D8, chess.E8, chess.F8, chess.G8, chess.H8]\n",
        "    }\n",
        "\n",
        "    # Count developed pieces (those not in their initial positions).\n",
        "    for color in [chess.WHITE, chess.BLACK]:\n",
        "        for piece_type in [chess.KNIGHT, chess.BISHOP, chess.ROOK, chess.QUEEN]:\n",
        "            for square in board.pieces(piece_type, color):\n",
        "                if square not in initial_positions[color]:\n",
        "                    development += 1 if color == chess.WHITE else -1\n",
        "\n",
        "    return development\n",
        "\n",
        "\n",
        "def extract_features(fen):\n",
        "    board = chess.Board(fen)\n",
        "    features = {\n",
        "        \"material_balance\": calculate_material_balance(board),\n",
        "        \"pawn_structure\": calculate_pawn_structure(board),\n",
        "        \"mobility\": calculate_mobility(board),\n",
        "        \"king_safety\": evaluate_king_safety(board),\n",
        "        \"center_control\": control_of_center(board),\n",
        "        \"piece_development\": piece_development(board)\n",
        "    }\n",
        "\n",
        "    features_vector = [features[\"material_balance\"], features[\"pawn_structure\"],\n",
        "                    features[\"mobility\"], features[\"king_safety\"],\n",
        "                    features[\"center_control\"], features[\"piece_development\"]]\n",
        "\n",
        "    return torch.tensor(features_vector)"
      ],
      "metadata": {
        "id": "DqId-2bPIG0J"
      },
      "execution_count": 20,
      "outputs": []
    },
    {
      "cell_type": "code",
      "execution_count": 11,
      "metadata": {
        "id": "QJXBm1xtIBgK"
      },
      "outputs": [],
      "source": [
        "#pre-process\n",
        "import chess\n",
        "import pickle\n",
        "import warnings\n",
        "import concurrent.futures\n",
        "\n",
        "#from extract_features import extract_features\n",
        "import requests\n",
        "\n",
        "from tqdm import tqdm\n",
        "\n",
        "DEPTH = 5\n",
        "MODE = 'eval'\n",
        "\n",
        "def convert_moves_to_san(moves_str):\n",
        "    # Split the string into individual moves, ignoring the white and black move indicators\n",
        "    moves = moves_str.split()\n",
        "    san_moves = []\n",
        "\n",
        "    # Extract the standard algebraic notation (SAN) part of each move (ignoring the move number and color indicator)\n",
        "    for move in moves:\n",
        "        san_move = move.split('.')[1]  # Take only the move part after the dot\n",
        "        san_moves.append(san_move)\n",
        "\n",
        "    # Combine the moves into a single space-separated string\n",
        "    san_moves_str = ' '.join(san_moves)\n",
        "    return san_moves_str\n",
        "\n",
        "def moves_to_fen(moves):\n",
        "    board = chess.Board()\n",
        "    fen_list = [board.fen()]  # Include the starting position\n",
        "\n",
        "    for move_san in moves.split():\n",
        "        move = board.parse_san(move_san)\n",
        "        board.push(move)\n",
        "        fen_list.append(board.fen())\n",
        "\n",
        "    return fen_list\n",
        "\n",
        "def preprocess_chess_data(file_path):\n",
        "    # List to hold all games moves\n",
        "    games_moves = []\n",
        "\n",
        "    # Open the file and skip the first five lines of metadata\n",
        "    with open(file_path, 'r') as file:\n",
        "        for _ in range(5):\n",
        "            next(file)  # Skip metadata lines\n",
        "\n",
        "        # Process each game entry line\n",
        "        for line in file:\n",
        "            if '###' in line:\n",
        "                # Split the line at '###' and take the second part, which contains the moves\n",
        "                moves = line.split('###')[1].strip()\n",
        "                # Store the moves in the list\n",
        "                games_moves.append(moves)\n",
        "\n",
        "    return games_moves\n",
        "\n",
        "# Process the data to convert moves to FEN for each game\n",
        "def games_to_fen(games_moves):\n",
        "    all_games_fen = []\n",
        "    for moves_str in games_moves:\n",
        "        san_moves = convert_moves_to_san(moves_str)\n",
        "        game_fen = moves_to_fen(san_moves)\n",
        "        all_games_fen.append(game_fen)\n",
        "    return all_games_fen\n",
        "\n",
        "\n",
        "def create_feature_vector(fen):\n",
        "    features = extract_features(fen)\n",
        "    features_vector = [features[\"material_balance\"], features[\"pawn_structure\"],\n",
        "                       features[\"mobility\"], features[\"king_safety\"],\n",
        "                       features[\"center_control\"], features[\"piece_development\"]]\n",
        "\n",
        "    return features_vector\n",
        "\n",
        "\n",
        "def fetch_label(fen):\n",
        "    \"\"\"\n",
        "    Fetch the label for a given FEN from the API.\n",
        "    \"\"\"\n",
        "    try:\n",
        "        response = requests.get(f'https://stockfish.online/api/stockfish.php?fen={fen}&depth={DEPTH}&mode={MODE}')\n",
        "        if response.status_code == 200:\n",
        "            return response.json().get('data').split()[2], False\n",
        "        else:\n",
        "            print(f\"Error fetching data for FEN: {fen}. Status Code: {response.status_code}\")\n",
        "            return None, True\n",
        "    except requests.RequestException as e:\n",
        "        print(f\"Request failed for FEN: {fen}. Error: {e}\")\n",
        "        return None, True\n",
        "\n",
        "\n",
        "def process_chess_data(file_path):\n",
        "    chess_games_moves = preprocess_chess_data(file_path)\n",
        "    subset_games_fen = games_to_fen(chess_games_moves)\n",
        "\n",
        "    # all_games = []\n",
        "    all_labels = []\n",
        "    exception_indices = []\n",
        "\n",
        "    for game in tqdm(subset_games_fen):\n",
        "        for i, fen in enumerate(game):\n",
        "    #         x = [create_feature_vector(fen) for fen in game]\n",
        "            labels, exception_occurred = fetch_label(fen)\n",
        "\n",
        "    #         all_games.append(x)\n",
        "            all_labels.append(labels)\n",
        "\n",
        "            if exception_occurred:\n",
        "                exception_indices.append(i)\n",
        "\n",
        "    # data = {'x': all_games, 'y': all_labels}\n",
        "\n",
        "    data = {'fen': subset_games_fen, 'y': all_labels}\n",
        "\n",
        "    return data, exception_indices\n",
        "\n",
        "\n",
        "#if __name__ == '__main__':\n",
        "    file_path = 'data/subset.txt'\n",
        "    data, exception_indices = process_chess_data(file_path)\n",
        "    pickle.dump(data, open('/content/drive/MyDrive/cs224w-project/subset_games_test.pkl', 'wb'))"
      ]
    },
    {
      "cell_type": "code",
      "source": [
        "#graph\n",
        "import torch\n",
        "from torch_geometric.data import Data\n",
        "import pickle\n",
        "\n",
        "games_fen = pickle.load(open('/content/drive/MyDrive/cs224w-project/subset_games_fen.pkl', 'rb'))\n",
        "\n",
        "# A function to encode a FEN string into a numerical feature vector\n",
        "def encode_fen(fen):\n",
        "    # Initialize a binary vector for the board\n",
        "    # 12 piece types (6 for white, 6 for black) x 64 squares\n",
        "    board_vector = [0] * (12 * 64)\n",
        "\n",
        "    # Define a mapping from piece symbols to their index offsets\n",
        "    piece_to_index = {\n",
        "        'P': 0, 'N': 1, 'B': 2, 'R': 3, 'Q': 4, 'K': 5,\n",
        "        'p': 6, 'n': 7, 'b': 8, 'r': 9, 'q': 10, 'k': 11\n",
        "    }\n",
        "\n",
        "    # Fill the vector with the presence of pieces\n",
        "    pieces = fen.split(' ')[0]  # Get the piece placement part of the FEN\n",
        "    square = 0\n",
        "    for char in pieces:\n",
        "        if char.isdigit():  # Empty squares\n",
        "            square += int(char)\n",
        "        elif char in piece_to_index:  # Occupied square\n",
        "            index = piece_to_index[char] * 64 + square\n",
        "            board_vector[index] = 1\n",
        "            square += 1\n",
        "        elif char == '/':  # New rank\n",
        "            continue\n",
        "\n",
        "    return board_vector\n",
        "\n",
        "\n",
        "# Encode all FENs and create a mapping from FEN to node index\n",
        "fen_to_index = {}\n",
        "node_features = []\n",
        "\n",
        "for game_fens in games_fen:\n",
        "    for fen in game_fens:\n",
        "        if fen not in fen_to_index:\n",
        "            fen_to_index[fen] = len(fen_to_index)\n",
        "            encoded_fen = encode_fen(fen)\n",
        "            node_features.append(encoded_fen)\n",
        "\n",
        "# Convert node features to a tensor\n",
        "node_features_tensor = torch.tensor(node_features, dtype=torch.float)\n",
        "\n",
        "# Create edges based on the sequence of moves\n",
        "edge_indices = []\n",
        "\n",
        "for game_fens in games_fen:\n",
        "    for i in range(len(game_fens) - 1):\n",
        "        source = fen_to_index[game_fens[i]]\n",
        "        target = fen_to_index[game_fens[i + 1]]\n",
        "        edge_indices.append((source, target))\n",
        "\n",
        "# Convert edge indices to a tensor\n",
        "edge_index_tensor = torch.tensor(edge_indices, dtype=torch.long).t().contiguous()\n",
        "\n",
        "# Create a PyG Data object\n",
        "data = Data(x=node_features_tensor, edge_index=edge_index_tensor)\n",
        "\n",
        "\n",
        "import networkx as nx\n",
        "import matplotlib.pyplot as plt\n",
        "from torch_geometric.utils import to_networkx\n",
        "\n",
        "# Convert PyG Data object to NetworkX graph\n",
        "G = to_networkx(data, to_undirected=True)\n",
        "\n",
        "# Draw the graph using NetworkX\n",
        "#plt.figure(figsize=(12, 8))\n",
        "#nx.draw(G, with_labels=False, node_color='lightblue', node_size=25, edge_color='gray')\n",
        "#plt.title('Graph Representation of Chess Games')\n",
        "#plt.show()"
      ],
      "metadata": {
        "id": "sqM9QsiyIVNA"
      },
      "execution_count": 17,
      "outputs": []
    },
    {
      "cell_type": "code",
      "source": [
        "#model\n",
        "import pickle\n",
        "import torch\n",
        "from torch_geometric.data import Data\n",
        "import torch.nn.functional as F\n",
        "from torch_geometric.nn import GATConv\n",
        "import torch_scatter\n",
        "\n",
        "#from preprocess import process_chess_data\n",
        "#from extract_features import extract_features\n",
        "\n",
        "import time\n",
        "from tqdm import tqdm\n",
        "\n",
        "class GATChessModel(torch.nn.Module):\n",
        "    def __init__(self, num_features, heads=8, dropout=0.6):\n",
        "        super(GATChessModel, self).__init__()\n",
        "        self.conv1 = GATConv(num_features, 32, heads=heads, dropout=dropout)\n",
        "        self.conv2 = GATConv(32 * heads, 1, heads=1, dropout=dropout)\n",
        "\n",
        "    def forward(self, data):\n",
        "        x, edge_index = data.x, data.edge_index\n",
        "\n",
        "        x = F.dropout(x, p=0.6, training=self.training)\n",
        "        x = F.elu(self.conv1(x, edge_index))\n",
        "        x = F.dropout(x, p=0.6, training=self.training)\n",
        "        x = self.conv2(x, edge_index)\n",
        "\n",
        "        return x\n",
        "\n",
        "\n",
        "def get_edge_indices():\n",
        "    file_path = '/content/drive/MyDrive/cs224w-project/subset.txt'\n",
        "    # _, exception_indices = process_chess_data(file_path)\n",
        "    exception_indices = []\n",
        "\n",
        "    # Read exception indices from file\n",
        "    with open('/content/drive/MyDrive/cs224w-project/exception_indices.txt', 'r') as file:\n",
        "        for line in file:\n",
        "            exception_indices.append(int(line.strip()))\n",
        "\n",
        "    print(\"exceptions\", exception_indices)\n",
        "\n",
        "    with open('/content/drive/MyDrive/cs224w-project/subset_games_test.pkl', 'rb') as f:\n",
        "        node_id = 0\n",
        "        fen_to_node = {}\n",
        "\n",
        "        games = pickle.load(f)\n",
        "        print(\"NUM GAME\", len(games))\n",
        "        for i, game in enumerate(games):\n",
        "            if i in exception_indices:  # skip games with exceptions\n",
        "                continue\n",
        "            for state in game:\n",
        "                if state not in fen_to_node:\n",
        "                    fen_to_node[state] = node_id\n",
        "                    node_id += 1\n",
        "\n",
        "        print(\"NODE ID\", node_id)\n",
        "\n",
        "        src, target = [], []\n",
        "        for j, game in enumerate(games):\n",
        "            for i in range(len(game) - 1):\n",
        "                if j in exception_indices:  # skip games with exceptions\n",
        "                    continue\n",
        "                else:\n",
        "                    src.append(fen_to_node[game[i]])\n",
        "                    target.append(fen_to_node[game[i+1]])\n",
        "\n",
        "        edge_index = torch.tensor([src, target], dtype=torch.long)\n",
        "\n",
        "        return edge_index\n",
        "\n",
        "\n",
        "def get_data():\n",
        "    from sklearn.model_selection import train_test_split\n",
        "    with open('/content/drive/MyDrive/cs224w-project/subset_games_test.pkl', 'rb') as f:\n",
        "        data = pickle.load(f)\n",
        "        print(extract_features(data['fen'][0][0]))\n",
        "        x = [extract_features(fen) for game in data['fen'] for fen in game]\n",
        "        x = torch.tensor(torch.stack(x), dtype=torch.float32)\n",
        "        y = [float(score) for game in data['y'] for score in game]\n",
        "        edge_index = torch.tensor(get_edge_indices(), dtype=torch.long)\n",
        "\n",
        "        y = torch.tensor(y, dtype=torch.float32)\n",
        "\n",
        "        dataset = Data(x=x, edge_index=edge_index, y=y)\n",
        "\n",
        "        # Split the dataset into training, validation, and testing sets\n",
        "        x_train, x_temp, y_train, y_temp = train_test_split(x, y, test_size=0.3, random_state=42)\n",
        "        x_val, x_test, y_val, y_test = train_test_split(x_temp, y_temp, test_size=0.5, random_state=42)\n",
        "\n",
        "        # Create Data objects for each set\n",
        "        train_data = Data(x=x_train, edge_index=edge_index, y=y_train)\n",
        "        val_data = Data(x=x_val, edge_index=edge_index, y=y_val)\n",
        "        test_data = Data(x=x_test, edge_index=edge_index, y=y_test)\n",
        "\n",
        "        return train_data, val_data, test_data\n",
        "\n",
        "\n",
        "if __name__ == '__main__':\n",
        "    num_features = 6\n",
        "    learning_rate = 0.01\n",
        "    num_epochs = 100\n",
        "\n",
        "    model = GATChessModel(num_features)\n",
        "    optimizer = torch.optim.Adam(model.parameters(), lr=learning_rate)\n",
        "    loss_func = torch.nn.MSELoss()  # Mean Squared Error for regression\n",
        "\n",
        "    data, val_data, test_data = get_data()\n",
        "\n",
        "    model.train()\n",
        "    for epoch in tqdm(range(num_epochs), desc=\"Epochs\"):\n",
        "        start_time = time.time()\n",
        "\n",
        "        optimizer.zero_grad()\n",
        "        out = model(data)\n",
        "        loss = loss_func(out, data.y)\n",
        "        loss.backward()\n",
        "        optimizer.step()\n",
        "\n",
        "        end_time = time.time()\n",
        "        epoch_duration = end_time - start_time\n",
        "        print(f\"Epoch {epoch + 1}/{num_epochs}, Loss: {loss.item():.4f}, Duration: {epoch_duration:.2f} sec\")\n",
        "\n",
        "        # print(f\"Epoch {epoch+1}, Loss: {loss.item()}\")\n",
        "\n",
        "    # Save the trained model\n",
        "    torch.save(model.state_dict(), '/content/drive/MyDrive/cs224w-project/trained_model.pth')\n",
        "\n",
        "    model = GATChessModel(num_features)\n",
        "    model.load_state_dict(torch.load('/content/drive/MyDrive/cs224w-project/trained_model.pth'))\n",
        "    model.eval()\n",
        "\n",
        "    with torch.no_grad():\n",
        "        model_output = model(test_data)\n",
        "\n"
      ],
      "metadata": {
        "id": "SBARP41aIOTJ",
        "colab": {
          "base_uri": "https://localhost:8080/"
        },
        "outputId": "85b68aa2-d4de-480e-b9cc-e1cef4a7ff98"
      },
      "execution_count": 37,
      "outputs": [
        {
          "output_type": "stream",
          "name": "stdout",
          "text": [
            "tensor([ 0,  0, 20,  0,  0,  0])\n"
          ]
        },
        {
          "output_type": "stream",
          "name": "stderr",
          "text": [
            "<ipython-input-37-b0393da41216>:80: UserWarning: To copy construct from a tensor, it is recommended to use sourceTensor.clone().detach() or sourceTensor.clone().detach().requires_grad_(True), rather than torch.tensor(sourceTensor).\n",
            "  x = torch.tensor(torch.stack(x), dtype=torch.float32)\n",
            "<ipython-input-37-b0393da41216>:82: UserWarning: To copy construct from a tensor, it is recommended to use sourceTensor.clone().detach() or sourceTensor.clone().detach().requires_grad_(True), rather than torch.tensor(sourceTensor).\n",
            "  edge_index = torch.tensor(get_edge_indices(), dtype=torch.long)\n"
          ]
        },
        {
          "output_type": "stream",
          "name": "stdout",
          "text": [
            "exceptions []\n",
            "NUM GAME 2\n",
            "NODE ID 4\n"
          ]
        },
        {
          "output_type": "stream",
          "name": "stderr",
          "text": [
            "Epochs:   0%|          | 0/100 [00:00<?, ?it/s]/usr/local/lib/python3.10/dist-packages/torch/nn/modules/loss.py:535: UserWarning: Using a target size (torch.Size([3381])) that is different to the input size (torch.Size([3381, 1])). This will likely lead to incorrect results due to broadcasting. Please ensure they have the same size.\n",
            "  return F.mse_loss(input, target, reduction=self.reduction)\n",
            "Epochs:   1%|          | 1/100 [00:00<00:11,  8.54it/s]"
          ]
        },
        {
          "output_type": "stream",
          "name": "stdout",
          "text": [
            "Epoch 1/100, Loss: 268.2765, Duration: 0.12 sec\n"
          ]
        },
        {
          "output_type": "stream",
          "name": "stderr",
          "text": [
            "\rEpochs:   2%|▏         | 2/100 [00:00<00:11,  8.41it/s]"
          ]
        },
        {
          "output_type": "stream",
          "name": "stdout",
          "text": [
            "Epoch 2/100, Loss: 272.9636, Duration: 0.12 sec\n"
          ]
        },
        {
          "output_type": "stream",
          "name": "stderr",
          "text": [
            "\rEpochs:   3%|▎         | 3/100 [00:00<00:11,  8.14it/s]"
          ]
        },
        {
          "output_type": "stream",
          "name": "stdout",
          "text": [
            "Epoch 3/100, Loss: 206.0652, Duration: 0.13 sec\n"
          ]
        },
        {
          "output_type": "stream",
          "name": "stderr",
          "text": [
            "\rEpochs:   4%|▍         | 4/100 [00:00<00:11,  8.18it/s]"
          ]
        },
        {
          "output_type": "stream",
          "name": "stdout",
          "text": [
            "Epoch 4/100, Loss: 167.6808, Duration: 0.12 sec\n"
          ]
        },
        {
          "output_type": "stream",
          "name": "stderr",
          "text": [
            "\rEpochs:   5%|▌         | 5/100 [00:00<00:12,  7.83it/s]"
          ]
        },
        {
          "output_type": "stream",
          "name": "stdout",
          "text": [
            "Epoch 5/100, Loss: 189.2035, Duration: 0.14 sec\n"
          ]
        },
        {
          "output_type": "stream",
          "name": "stderr",
          "text": [
            "\rEpochs:   6%|▌         | 6/100 [00:00<00:11,  7.89it/s]"
          ]
        },
        {
          "output_type": "stream",
          "name": "stdout",
          "text": [
            "Epoch 6/100, Loss: 114.4422, Duration: 0.12 sec\n"
          ]
        },
        {
          "output_type": "stream",
          "name": "stderr",
          "text": [
            "\rEpochs:   7%|▋         | 7/100 [00:00<00:11,  8.06it/s]"
          ]
        },
        {
          "output_type": "stream",
          "name": "stdout",
          "text": [
            "Epoch 7/100, Loss: 78.8734, Duration: 0.12 sec\n"
          ]
        },
        {
          "output_type": "stream",
          "name": "stderr",
          "text": [
            "\rEpochs:   8%|▊         | 8/100 [00:00<00:11,  8.02it/s]"
          ]
        },
        {
          "output_type": "stream",
          "name": "stdout",
          "text": [
            "Epoch 8/100, Loss: 91.5570, Duration: 0.12 sec\n"
          ]
        },
        {
          "output_type": "stream",
          "name": "stderr",
          "text": [
            "\rEpochs:   9%|▉         | 9/100 [00:01<00:11,  8.06it/s]"
          ]
        },
        {
          "output_type": "stream",
          "name": "stdout",
          "text": [
            "Epoch 9/100, Loss: 63.5009, Duration: 0.12 sec\n"
          ]
        },
        {
          "output_type": "stream",
          "name": "stderr",
          "text": [
            "\rEpochs:  10%|█         | 10/100 [00:01<00:10,  8.19it/s]"
          ]
        },
        {
          "output_type": "stream",
          "name": "stdout",
          "text": [
            "Epoch 10/100, Loss: 63.7400, Duration: 0.12 sec\n"
          ]
        },
        {
          "output_type": "stream",
          "name": "stderr",
          "text": [
            "\rEpochs:  11%|█         | 11/100 [00:01<00:10,  8.26it/s]"
          ]
        },
        {
          "output_type": "stream",
          "name": "stdout",
          "text": [
            "Epoch 11/100, Loss: 51.3735, Duration: 0.12 sec\n"
          ]
        },
        {
          "output_type": "stream",
          "name": "stderr",
          "text": [
            "\rEpochs:  12%|█▏        | 12/100 [00:01<00:10,  8.32it/s]"
          ]
        },
        {
          "output_type": "stream",
          "name": "stdout",
          "text": [
            "Epoch 12/100, Loss: 38.4438, Duration: 0.12 sec\n"
          ]
        },
        {
          "output_type": "stream",
          "name": "stderr",
          "text": [
            "\rEpochs:  13%|█▎        | 13/100 [00:01<00:10,  8.26it/s]"
          ]
        },
        {
          "output_type": "stream",
          "name": "stdout",
          "text": [
            "Epoch 13/100, Loss: 35.1093, Duration: 0.12 sec\n"
          ]
        },
        {
          "output_type": "stream",
          "name": "stderr",
          "text": [
            "\rEpochs:  14%|█▍        | 14/100 [00:01<00:10,  8.11it/s]"
          ]
        },
        {
          "output_type": "stream",
          "name": "stdout",
          "text": [
            "Epoch 14/100, Loss: 27.1464, Duration: 0.13 sec\n"
          ]
        },
        {
          "output_type": "stream",
          "name": "stderr",
          "text": [
            "\rEpochs:  15%|█▌        | 15/100 [00:01<00:10,  8.00it/s]"
          ]
        },
        {
          "output_type": "stream",
          "name": "stdout",
          "text": [
            "Epoch 15/100, Loss: 23.7194, Duration: 0.13 sec\n"
          ]
        },
        {
          "output_type": "stream",
          "name": "stderr",
          "text": [
            "\rEpochs:  16%|█▌        | 16/100 [00:01<00:10,  8.10it/s]"
          ]
        },
        {
          "output_type": "stream",
          "name": "stdout",
          "text": [
            "Epoch 16/100, Loss: 24.9415, Duration: 0.12 sec\n"
          ]
        },
        {
          "output_type": "stream",
          "name": "stderr",
          "text": [
            "\rEpochs:  17%|█▋        | 17/100 [00:02<00:10,  8.24it/s]"
          ]
        },
        {
          "output_type": "stream",
          "name": "stdout",
          "text": [
            "Epoch 17/100, Loss: 21.4966, Duration: 0.11 sec\n"
          ]
        },
        {
          "output_type": "stream",
          "name": "stderr",
          "text": [
            "\rEpochs:  18%|█▊        | 18/100 [00:02<00:09,  8.26it/s]"
          ]
        },
        {
          "output_type": "stream",
          "name": "stdout",
          "text": [
            "Epoch 18/100, Loss: 17.8917, Duration: 0.12 sec\n"
          ]
        },
        {
          "output_type": "stream",
          "name": "stderr",
          "text": [
            "\rEpochs:  19%|█▉        | 19/100 [00:02<00:09,  8.34it/s]"
          ]
        },
        {
          "output_type": "stream",
          "name": "stdout",
          "text": [
            "Epoch 19/100, Loss: 15.7367, Duration: 0.12 sec\n"
          ]
        },
        {
          "output_type": "stream",
          "name": "stderr",
          "text": [
            "\rEpochs:  20%|██        | 20/100 [00:02<00:09,  8.28it/s]"
          ]
        },
        {
          "output_type": "stream",
          "name": "stdout",
          "text": [
            "Epoch 20/100, Loss: 13.2357, Duration: 0.12 sec\n"
          ]
        },
        {
          "output_type": "stream",
          "name": "stderr",
          "text": [
            "\rEpochs:  21%|██        | 21/100 [00:02<00:09,  8.30it/s]"
          ]
        },
        {
          "output_type": "stream",
          "name": "stdout",
          "text": [
            "Epoch 21/100, Loss: 13.1729, Duration: 0.12 sec\n"
          ]
        },
        {
          "output_type": "stream",
          "name": "stderr",
          "text": [
            "\rEpochs:  22%|██▏       | 22/100 [00:02<00:09,  8.09it/s]"
          ]
        },
        {
          "output_type": "stream",
          "name": "stdout",
          "text": [
            "Epoch 22/100, Loss: 13.2603, Duration: 0.13 sec\n"
          ]
        },
        {
          "output_type": "stream",
          "name": "stderr",
          "text": [
            "\rEpochs:  23%|██▎       | 23/100 [00:02<00:09,  8.20it/s]"
          ]
        },
        {
          "output_type": "stream",
          "name": "stdout",
          "text": [
            "Epoch 23/100, Loss: 12.7224, Duration: 0.11 sec\n"
          ]
        },
        {
          "output_type": "stream",
          "name": "stderr",
          "text": [
            "\rEpochs:  24%|██▍       | 24/100 [00:02<00:09,  8.33it/s]"
          ]
        },
        {
          "output_type": "stream",
          "name": "stdout",
          "text": [
            "Epoch 24/100, Loss: 12.9091, Duration: 0.11 sec\n"
          ]
        },
        {
          "output_type": "stream",
          "name": "stderr",
          "text": [
            "\rEpochs:  25%|██▌       | 25/100 [00:03<00:08,  8.40it/s]"
          ]
        },
        {
          "output_type": "stream",
          "name": "stdout",
          "text": [
            "Epoch 25/100, Loss: 11.5011, Duration: 0.11 sec\n"
          ]
        },
        {
          "output_type": "stream",
          "name": "stderr",
          "text": [
            "\rEpochs:  26%|██▌       | 26/100 [00:03<00:08,  8.42it/s]"
          ]
        },
        {
          "output_type": "stream",
          "name": "stdout",
          "text": [
            "Epoch 26/100, Loss: 11.0046, Duration: 0.12 sec\n"
          ]
        },
        {
          "output_type": "stream",
          "name": "stderr",
          "text": [
            "\rEpochs:  27%|██▋       | 27/100 [00:03<00:08,  8.42it/s]"
          ]
        },
        {
          "output_type": "stream",
          "name": "stdout",
          "text": [
            "Epoch 27/100, Loss: 10.1681, Duration: 0.12 sec\n"
          ]
        },
        {
          "output_type": "stream",
          "name": "stderr",
          "text": [
            "\rEpochs:  28%|██▊       | 28/100 [00:03<00:08,  8.24it/s]"
          ]
        },
        {
          "output_type": "stream",
          "name": "stdout",
          "text": [
            "Epoch 28/100, Loss: 9.8627, Duration: 0.12 sec\n"
          ]
        },
        {
          "output_type": "stream",
          "name": "stderr",
          "text": [
            "\rEpochs:  29%|██▉       | 29/100 [00:03<00:08,  8.30it/s]"
          ]
        },
        {
          "output_type": "stream",
          "name": "stdout",
          "text": [
            "Epoch 29/100, Loss: 9.4660, Duration: 0.12 sec\n"
          ]
        },
        {
          "output_type": "stream",
          "name": "stderr",
          "text": [
            "\rEpochs:  30%|███       | 30/100 [00:03<00:08,  8.30it/s]"
          ]
        },
        {
          "output_type": "stream",
          "name": "stdout",
          "text": [
            "Epoch 30/100, Loss: 9.3926, Duration: 0.12 sec\n"
          ]
        },
        {
          "output_type": "stream",
          "name": "stderr",
          "text": [
            "\rEpochs:  31%|███       | 31/100 [00:03<00:08,  8.09it/s]"
          ]
        },
        {
          "output_type": "stream",
          "name": "stdout",
          "text": [
            "Epoch 31/100, Loss: 9.7795, Duration: 0.13 sec\n"
          ]
        },
        {
          "output_type": "stream",
          "name": "stderr",
          "text": [
            "\rEpochs:  32%|███▏      | 32/100 [00:03<00:08,  8.17it/s]"
          ]
        },
        {
          "output_type": "stream",
          "name": "stdout",
          "text": [
            "Epoch 32/100, Loss: 9.4312, Duration: 0.12 sec\n"
          ]
        },
        {
          "output_type": "stream",
          "name": "stderr",
          "text": [
            "\rEpochs:  33%|███▎      | 33/100 [00:04<00:08,  8.26it/s]"
          ]
        },
        {
          "output_type": "stream",
          "name": "stdout",
          "text": [
            "Epoch 33/100, Loss: 9.4603, Duration: 0.12 sec\n"
          ]
        },
        {
          "output_type": "stream",
          "name": "stderr",
          "text": [
            "\rEpochs:  34%|███▍      | 34/100 [00:04<00:07,  8.34it/s]"
          ]
        },
        {
          "output_type": "stream",
          "name": "stdout",
          "text": [
            "Epoch 34/100, Loss: 9.2796, Duration: 0.12 sec\n"
          ]
        },
        {
          "output_type": "stream",
          "name": "stderr",
          "text": [
            "\rEpochs:  35%|███▌      | 35/100 [00:04<00:07,  8.40it/s]"
          ]
        },
        {
          "output_type": "stream",
          "name": "stdout",
          "text": [
            "Epoch 35/100, Loss: 9.3636, Duration: 0.12 sec\n"
          ]
        },
        {
          "output_type": "stream",
          "name": "stderr",
          "text": [
            "\rEpochs:  36%|███▌      | 36/100 [00:04<00:07,  8.40it/s]"
          ]
        },
        {
          "output_type": "stream",
          "name": "stdout",
          "text": [
            "Epoch 36/100, Loss: 9.0666, Duration: 0.12 sec\n"
          ]
        },
        {
          "output_type": "stream",
          "name": "stderr",
          "text": [
            "\rEpochs:  37%|███▋      | 37/100 [00:04<00:07,  8.38it/s]"
          ]
        },
        {
          "output_type": "stream",
          "name": "stdout",
          "text": [
            "Epoch 37/100, Loss: 9.0180, Duration: 0.12 sec\n"
          ]
        },
        {
          "output_type": "stream",
          "name": "stderr",
          "text": [
            "\rEpochs:  38%|███▊      | 38/100 [00:04<00:07,  8.32it/s]"
          ]
        },
        {
          "output_type": "stream",
          "name": "stdout",
          "text": [
            "Epoch 38/100, Loss: 8.9259, Duration: 0.12 sec\n"
          ]
        },
        {
          "output_type": "stream",
          "name": "stderr",
          "text": [
            "\rEpochs:  39%|███▉      | 39/100 [00:04<00:07,  8.05it/s]"
          ]
        },
        {
          "output_type": "stream",
          "name": "stdout",
          "text": [
            "Epoch 39/100, Loss: 8.7252, Duration: 0.13 sec\n"
          ]
        },
        {
          "output_type": "stream",
          "name": "stderr",
          "text": [
            "\rEpochs:  40%|████      | 40/100 [00:04<00:07,  8.18it/s]"
          ]
        },
        {
          "output_type": "stream",
          "name": "stdout",
          "text": [
            "Epoch 40/100, Loss: 8.6249, Duration: 0.12 sec\n"
          ]
        },
        {
          "output_type": "stream",
          "name": "stderr",
          "text": [
            "\rEpochs:  41%|████      | 41/100 [00:04<00:07,  8.28it/s]"
          ]
        },
        {
          "output_type": "stream",
          "name": "stdout",
          "text": [
            "Epoch 41/100, Loss: 8.7223, Duration: 0.12 sec\n"
          ]
        },
        {
          "output_type": "stream",
          "name": "stderr",
          "text": [
            "\rEpochs:  42%|████▏     | 42/100 [00:05<00:06,  8.32it/s]"
          ]
        },
        {
          "output_type": "stream",
          "name": "stdout",
          "text": [
            "Epoch 42/100, Loss: 8.7115, Duration: 0.12 sec\n"
          ]
        },
        {
          "output_type": "stream",
          "name": "stderr",
          "text": [
            "\rEpochs:  43%|████▎     | 43/100 [00:05<00:06,  8.36it/s]"
          ]
        },
        {
          "output_type": "stream",
          "name": "stdout",
          "text": [
            "Epoch 43/100, Loss: 8.6997, Duration: 0.12 sec\n"
          ]
        },
        {
          "output_type": "stream",
          "name": "stderr",
          "text": [
            "\rEpochs:  44%|████▍     | 44/100 [00:05<00:06,  8.41it/s]"
          ]
        },
        {
          "output_type": "stream",
          "name": "stdout",
          "text": [
            "Epoch 44/100, Loss: 8.6071, Duration: 0.11 sec\n"
          ]
        },
        {
          "output_type": "stream",
          "name": "stderr",
          "text": [
            "\rEpochs:  45%|████▌     | 45/100 [00:05<00:06,  8.33it/s]"
          ]
        },
        {
          "output_type": "stream",
          "name": "stdout",
          "text": [
            "Epoch 45/100, Loss: 8.6215, Duration: 0.12 sec\n"
          ]
        },
        {
          "output_type": "stream",
          "name": "stderr",
          "text": [
            "\rEpochs:  46%|████▌     | 46/100 [00:05<00:06,  8.32it/s]"
          ]
        },
        {
          "output_type": "stream",
          "name": "stdout",
          "text": [
            "Epoch 46/100, Loss: 8.6235, Duration: 0.12 sec\n"
          ]
        },
        {
          "output_type": "stream",
          "name": "stderr",
          "text": [
            "\rEpochs:  47%|████▋     | 47/100 [00:05<00:06,  8.33it/s]"
          ]
        },
        {
          "output_type": "stream",
          "name": "stdout",
          "text": [
            "Epoch 47/100, Loss: 8.5821, Duration: 0.12 sec\n"
          ]
        },
        {
          "output_type": "stream",
          "name": "stderr",
          "text": [
            "\rEpochs:  48%|████▊     | 48/100 [00:05<00:06,  8.10it/s]"
          ]
        },
        {
          "output_type": "stream",
          "name": "stdout",
          "text": [
            "Epoch 48/100, Loss: 8.5538, Duration: 0.13 sec\n"
          ]
        },
        {
          "output_type": "stream",
          "name": "stderr",
          "text": [
            "\rEpochs:  49%|████▉     | 49/100 [00:05<00:06,  8.23it/s]"
          ]
        },
        {
          "output_type": "stream",
          "name": "stdout",
          "text": [
            "Epoch 49/100, Loss: 8.5284, Duration: 0.12 sec\n"
          ]
        },
        {
          "output_type": "stream",
          "name": "stderr",
          "text": [
            "\rEpochs:  50%|█████     | 50/100 [00:06<00:06,  8.29it/s]"
          ]
        },
        {
          "output_type": "stream",
          "name": "stdout",
          "text": [
            "Epoch 50/100, Loss: 8.5413, Duration: 0.12 sec\n"
          ]
        },
        {
          "output_type": "stream",
          "name": "stderr",
          "text": [
            "\rEpochs:  51%|█████     | 51/100 [00:06<00:05,  8.30it/s]"
          ]
        },
        {
          "output_type": "stream",
          "name": "stdout",
          "text": [
            "Epoch 51/100, Loss: 8.4933, Duration: 0.12 sec\n"
          ]
        },
        {
          "output_type": "stream",
          "name": "stderr",
          "text": [
            "\rEpochs:  52%|█████▏    | 52/100 [00:06<00:05,  8.22it/s]"
          ]
        },
        {
          "output_type": "stream",
          "name": "stdout",
          "text": [
            "Epoch 52/100, Loss: 8.4776, Duration: 0.12 sec\n"
          ]
        },
        {
          "output_type": "stream",
          "name": "stderr",
          "text": [
            "\rEpochs:  53%|█████▎    | 53/100 [00:06<00:05,  8.18it/s]"
          ]
        },
        {
          "output_type": "stream",
          "name": "stdout",
          "text": [
            "Epoch 53/100, Loss: 8.4149, Duration: 0.12 sec\n"
          ]
        },
        {
          "output_type": "stream",
          "name": "stderr",
          "text": [
            "\rEpochs:  54%|█████▍    | 54/100 [00:06<00:05,  8.12it/s]"
          ]
        },
        {
          "output_type": "stream",
          "name": "stdout",
          "text": [
            "Epoch 54/100, Loss: 8.4488, Duration: 0.12 sec\n"
          ]
        },
        {
          "output_type": "stream",
          "name": "stderr",
          "text": [
            "\rEpochs:  55%|█████▌    | 55/100 [00:06<00:06,  7.30it/s]"
          ]
        },
        {
          "output_type": "stream",
          "name": "stdout",
          "text": [
            "Epoch 55/100, Loss: 8.3159, Duration: 0.16 sec\n"
          ]
        },
        {
          "output_type": "stream",
          "name": "stderr",
          "text": [
            "\rEpochs:  56%|█████▌    | 56/100 [00:06<00:06,  6.86it/s]"
          ]
        },
        {
          "output_type": "stream",
          "name": "stdout",
          "text": [
            "Epoch 56/100, Loss: 8.3766, Duration: 0.16 sec\n"
          ]
        },
        {
          "output_type": "stream",
          "name": "stderr",
          "text": [
            "\rEpochs:  57%|█████▋    | 57/100 [00:07<00:06,  6.67it/s]"
          ]
        },
        {
          "output_type": "stream",
          "name": "stdout",
          "text": [
            "Epoch 57/100, Loss: 8.3097, Duration: 0.16 sec\n"
          ]
        },
        {
          "output_type": "stream",
          "name": "stderr",
          "text": [
            "\rEpochs:  58%|█████▊    | 58/100 [00:07<00:06,  6.28it/s]"
          ]
        },
        {
          "output_type": "stream",
          "name": "stdout",
          "text": [
            "Epoch 58/100, Loss: 8.3658, Duration: 0.18 sec\n"
          ]
        },
        {
          "output_type": "stream",
          "name": "stderr",
          "text": [
            "\rEpochs:  59%|█████▉    | 59/100 [00:07<00:06,  6.36it/s]"
          ]
        },
        {
          "output_type": "stream",
          "name": "stdout",
          "text": [
            "Epoch 59/100, Loss: 8.3437, Duration: 0.15 sec\n"
          ]
        },
        {
          "output_type": "stream",
          "name": "stderr",
          "text": [
            "\rEpochs:  60%|██████    | 60/100 [00:07<00:06,  6.31it/s]"
          ]
        },
        {
          "output_type": "stream",
          "name": "stdout",
          "text": [
            "Epoch 60/100, Loss: 8.2543, Duration: 0.16 sec\n"
          ]
        },
        {
          "output_type": "stream",
          "name": "stderr",
          "text": [
            "\rEpochs:  61%|██████    | 61/100 [00:07<00:06,  6.19it/s]"
          ]
        },
        {
          "output_type": "stream",
          "name": "stdout",
          "text": [
            "Epoch 61/100, Loss: 8.3958, Duration: 0.16 sec\n"
          ]
        },
        {
          "output_type": "stream",
          "name": "stderr",
          "text": [
            "\rEpochs:  62%|██████▏   | 62/100 [00:07<00:06,  6.13it/s]"
          ]
        },
        {
          "output_type": "stream",
          "name": "stdout",
          "text": [
            "Epoch 62/100, Loss: 8.2854, Duration: 0.16 sec\n"
          ]
        },
        {
          "output_type": "stream",
          "name": "stderr",
          "text": [
            "\rEpochs:  63%|██████▎   | 63/100 [00:08<00:06,  6.16it/s]"
          ]
        },
        {
          "output_type": "stream",
          "name": "stdout",
          "text": [
            "Epoch 63/100, Loss: 8.2296, Duration: 0.16 sec\n"
          ]
        },
        {
          "output_type": "stream",
          "name": "stderr",
          "text": [
            "\rEpochs:  64%|██████▍   | 64/100 [00:08<00:05,  6.14it/s]"
          ]
        },
        {
          "output_type": "stream",
          "name": "stdout",
          "text": [
            "Epoch 64/100, Loss: 8.2512, Duration: 0.16 sec\n"
          ]
        },
        {
          "output_type": "stream",
          "name": "stderr",
          "text": [
            "\rEpochs:  65%|██████▌   | 65/100 [00:08<00:05,  6.16it/s]"
          ]
        },
        {
          "output_type": "stream",
          "name": "stdout",
          "text": [
            "Epoch 65/100, Loss: 8.2498, Duration: 0.16 sec\n"
          ]
        },
        {
          "output_type": "stream",
          "name": "stderr",
          "text": [
            "\rEpochs:  66%|██████▌   | 66/100 [00:08<00:05,  6.02it/s]"
          ]
        },
        {
          "output_type": "stream",
          "name": "stdout",
          "text": [
            "Epoch 66/100, Loss: 8.1917, Duration: 0.17 sec\n"
          ]
        },
        {
          "output_type": "stream",
          "name": "stderr",
          "text": [
            "\rEpochs:  67%|██████▋   | 67/100 [00:08<00:05,  5.92it/s]"
          ]
        },
        {
          "output_type": "stream",
          "name": "stdout",
          "text": [
            "Epoch 67/100, Loss: 8.1984, Duration: 0.17 sec\n"
          ]
        },
        {
          "output_type": "stream",
          "name": "stderr",
          "text": [
            "\rEpochs:  68%|██████▊   | 68/100 [00:08<00:05,  5.92it/s]"
          ]
        },
        {
          "output_type": "stream",
          "name": "stdout",
          "text": [
            "Epoch 68/100, Loss: 8.1360, Duration: 0.17 sec\n"
          ]
        },
        {
          "output_type": "stream",
          "name": "stderr",
          "text": [
            "\rEpochs:  69%|██████▉   | 69/100 [00:09<00:05,  5.93it/s]"
          ]
        },
        {
          "output_type": "stream",
          "name": "stdout",
          "text": [
            "Epoch 69/100, Loss: 8.1400, Duration: 0.16 sec\n"
          ]
        },
        {
          "output_type": "stream",
          "name": "stderr",
          "text": [
            "\rEpochs:  70%|███████   | 70/100 [00:09<00:04,  6.06it/s]"
          ]
        },
        {
          "output_type": "stream",
          "name": "stdout",
          "text": [
            "Epoch 70/100, Loss: 8.1156, Duration: 0.15 sec\n"
          ]
        },
        {
          "output_type": "stream",
          "name": "stderr",
          "text": [
            "\rEpochs:  71%|███████   | 71/100 [00:09<00:04,  6.06it/s]"
          ]
        },
        {
          "output_type": "stream",
          "name": "stdout",
          "text": [
            "Epoch 71/100, Loss: 8.1231, Duration: 0.16 sec\n"
          ]
        },
        {
          "output_type": "stream",
          "name": "stderr",
          "text": [
            "\rEpochs:  72%|███████▏  | 72/100 [00:09<00:04,  6.10it/s]"
          ]
        },
        {
          "output_type": "stream",
          "name": "stdout",
          "text": [
            "Epoch 72/100, Loss: 8.1248, Duration: 0.16 sec\n"
          ]
        },
        {
          "output_type": "stream",
          "name": "stderr",
          "text": [
            "\rEpochs:  73%|███████▎  | 73/100 [00:09<00:04,  6.18it/s]"
          ]
        },
        {
          "output_type": "stream",
          "name": "stdout",
          "text": [
            "Epoch 73/100, Loss: 8.0965, Duration: 0.15 sec\n"
          ]
        },
        {
          "output_type": "stream",
          "name": "stderr",
          "text": [
            "\rEpochs:  74%|███████▍  | 74/100 [00:09<00:04,  6.23it/s]"
          ]
        },
        {
          "output_type": "stream",
          "name": "stdout",
          "text": [
            "Epoch 74/100, Loss: 8.0829, Duration: 0.15 sec\n"
          ]
        },
        {
          "output_type": "stream",
          "name": "stderr",
          "text": [
            "\rEpochs:  75%|███████▌  | 75/100 [00:10<00:04,  6.05it/s]"
          ]
        },
        {
          "output_type": "stream",
          "name": "stdout",
          "text": [
            "Epoch 75/100, Loss: 8.1113, Duration: 0.17 sec\n"
          ]
        },
        {
          "output_type": "stream",
          "name": "stderr",
          "text": [
            "\rEpochs:  76%|███████▌  | 76/100 [00:10<00:03,  6.11it/s]"
          ]
        },
        {
          "output_type": "stream",
          "name": "stdout",
          "text": [
            "Epoch 76/100, Loss: 8.1040, Duration: 0.16 sec\n"
          ]
        },
        {
          "output_type": "stream",
          "name": "stderr",
          "text": [
            "\rEpochs:  77%|███████▋  | 77/100 [00:10<00:03,  6.12it/s]"
          ]
        },
        {
          "output_type": "stream",
          "name": "stdout",
          "text": [
            "Epoch 77/100, Loss: 8.0342, Duration: 0.16 sec\n"
          ]
        },
        {
          "output_type": "stream",
          "name": "stderr",
          "text": [
            "\rEpochs:  78%|███████▊  | 78/100 [00:10<00:03,  6.04it/s]"
          ]
        },
        {
          "output_type": "stream",
          "name": "stdout",
          "text": [
            "Epoch 78/100, Loss: 8.0400, Duration: 0.17 sec\n"
          ]
        },
        {
          "output_type": "stream",
          "name": "stderr",
          "text": [
            "\rEpochs:  79%|███████▉  | 79/100 [00:10<00:03,  6.12it/s]"
          ]
        },
        {
          "output_type": "stream",
          "name": "stdout",
          "text": [
            "Epoch 79/100, Loss: 8.0097, Duration: 0.16 sec\n"
          ]
        },
        {
          "output_type": "stream",
          "name": "stderr",
          "text": [
            "\rEpochs:  80%|████████  | 80/100 [00:10<00:03,  6.16it/s]"
          ]
        },
        {
          "output_type": "stream",
          "name": "stdout",
          "text": [
            "Epoch 80/100, Loss: 8.0016, Duration: 0.15 sec\n"
          ]
        },
        {
          "output_type": "stream",
          "name": "stderr",
          "text": [
            "\rEpochs:  81%|████████  | 81/100 [00:11<00:03,  6.20it/s]"
          ]
        },
        {
          "output_type": "stream",
          "name": "stdout",
          "text": [
            "Epoch 81/100, Loss: 8.0331, Duration: 0.15 sec\n"
          ]
        },
        {
          "output_type": "stream",
          "name": "stderr",
          "text": [
            "\rEpochs:  82%|████████▏ | 82/100 [00:11<00:02,  6.03it/s]"
          ]
        },
        {
          "output_type": "stream",
          "name": "stdout",
          "text": [
            "Epoch 82/100, Loss: 7.9958, Duration: 0.17 sec\n"
          ]
        },
        {
          "output_type": "stream",
          "name": "stderr",
          "text": [
            "\rEpochs:  83%|████████▎ | 83/100 [00:11<00:02,  6.08it/s]"
          ]
        },
        {
          "output_type": "stream",
          "name": "stdout",
          "text": [
            "Epoch 83/100, Loss: 8.0022, Duration: 0.16 sec\n"
          ]
        },
        {
          "output_type": "stream",
          "name": "stderr",
          "text": [
            "\rEpochs:  84%|████████▍ | 84/100 [00:11<00:02,  6.00it/s]"
          ]
        },
        {
          "output_type": "stream",
          "name": "stdout",
          "text": [
            "Epoch 84/100, Loss: 8.0440, Duration: 0.17 sec\n"
          ]
        },
        {
          "output_type": "stream",
          "name": "stderr",
          "text": [
            "\rEpochs:  85%|████████▌ | 85/100 [00:11<00:02,  6.01it/s]"
          ]
        },
        {
          "output_type": "stream",
          "name": "stdout",
          "text": [
            "Epoch 85/100, Loss: 7.9714, Duration: 0.16 sec\n"
          ]
        },
        {
          "output_type": "stream",
          "name": "stderr",
          "text": [
            "\rEpochs:  86%|████████▌ | 86/100 [00:11<00:02,  6.01it/s]"
          ]
        },
        {
          "output_type": "stream",
          "name": "stdout",
          "text": [
            "Epoch 86/100, Loss: 7.9873, Duration: 0.16 sec\n"
          ]
        },
        {
          "output_type": "stream",
          "name": "stderr",
          "text": [
            "\rEpochs:  87%|████████▋ | 87/100 [00:11<00:01,  6.61it/s]"
          ]
        },
        {
          "output_type": "stream",
          "name": "stdout",
          "text": [
            "Epoch 87/100, Loss: 7.9583, Duration: 0.11 sec\n"
          ]
        },
        {
          "output_type": "stream",
          "name": "stderr",
          "text": [
            "\rEpochs:  88%|████████▊ | 88/100 [00:12<00:01,  7.06it/s]"
          ]
        },
        {
          "output_type": "stream",
          "name": "stdout",
          "text": [
            "Epoch 88/100, Loss: 7.9585, Duration: 0.12 sec\n"
          ]
        },
        {
          "output_type": "stream",
          "name": "stderr",
          "text": [
            "\rEpochs:  89%|████████▉ | 89/100 [00:12<00:01,  7.10it/s]"
          ]
        },
        {
          "output_type": "stream",
          "name": "stdout",
          "text": [
            "Epoch 89/100, Loss: 7.8918, Duration: 0.14 sec\n"
          ]
        },
        {
          "output_type": "stream",
          "name": "stderr",
          "text": [
            "\rEpochs:  90%|█████████ | 90/100 [00:12<00:01,  7.43it/s]"
          ]
        },
        {
          "output_type": "stream",
          "name": "stdout",
          "text": [
            "Epoch 90/100, Loss: 7.9098, Duration: 0.12 sec\n"
          ]
        },
        {
          "output_type": "stream",
          "name": "stderr",
          "text": [
            "\rEpochs:  91%|█████████ | 91/100 [00:12<00:01,  7.62it/s]"
          ]
        },
        {
          "output_type": "stream",
          "name": "stdout",
          "text": [
            "Epoch 91/100, Loss: 7.9003, Duration: 0.12 sec\n"
          ]
        },
        {
          "output_type": "stream",
          "name": "stderr",
          "text": [
            "\rEpochs:  92%|█████████▏| 92/100 [00:12<00:01,  7.87it/s]"
          ]
        },
        {
          "output_type": "stream",
          "name": "stdout",
          "text": [
            "Epoch 92/100, Loss: 7.8975, Duration: 0.11 sec\n"
          ]
        },
        {
          "output_type": "stream",
          "name": "stderr",
          "text": [
            "\rEpochs:  93%|█████████▎| 93/100 [00:12<00:00,  7.84it/s]"
          ]
        },
        {
          "output_type": "stream",
          "name": "stdout",
          "text": [
            "Epoch 93/100, Loss: 7.9006, Duration: 0.13 sec\n"
          ]
        },
        {
          "output_type": "stream",
          "name": "stderr",
          "text": [
            "\rEpochs:  94%|█████████▍| 94/100 [00:12<00:00,  7.98it/s]"
          ]
        },
        {
          "output_type": "stream",
          "name": "stdout",
          "text": [
            "Epoch 94/100, Loss: 7.8596, Duration: 0.12 sec\n"
          ]
        },
        {
          "output_type": "stream",
          "name": "stderr",
          "text": [
            "\rEpochs:  95%|█████████▌| 95/100 [00:12<00:00,  8.00it/s]"
          ]
        },
        {
          "output_type": "stream",
          "name": "stdout",
          "text": [
            "Epoch 95/100, Loss: 7.8705, Duration: 0.12 sec\n"
          ]
        },
        {
          "output_type": "stream",
          "name": "stderr",
          "text": [
            "\rEpochs:  96%|█████████▌| 96/100 [00:13<00:00,  7.45it/s]"
          ]
        },
        {
          "output_type": "stream",
          "name": "stdout",
          "text": [
            "Epoch 96/100, Loss: 7.8585, Duration: 0.15 sec\n"
          ]
        },
        {
          "output_type": "stream",
          "name": "stderr",
          "text": [
            "\rEpochs:  97%|█████████▋| 97/100 [00:13<00:00,  7.39it/s]"
          ]
        },
        {
          "output_type": "stream",
          "name": "stdout",
          "text": [
            "Epoch 97/100, Loss: 7.8413, Duration: 0.14 sec\n"
          ]
        },
        {
          "output_type": "stream",
          "name": "stderr",
          "text": [
            "\rEpochs:  98%|█████████▊| 98/100 [00:13<00:00,  7.42it/s]"
          ]
        },
        {
          "output_type": "stream",
          "name": "stdout",
          "text": [
            "Epoch 98/100, Loss: 7.8442, Duration: 0.13 sec\n"
          ]
        },
        {
          "output_type": "stream",
          "name": "stderr",
          "text": [
            "\rEpochs:  99%|█████████▉| 99/100 [00:13<00:00,  7.39it/s]"
          ]
        },
        {
          "output_type": "stream",
          "name": "stdout",
          "text": [
            "Epoch 99/100, Loss: 7.8737, Duration: 0.13 sec\n"
          ]
        },
        {
          "output_type": "stream",
          "name": "stderr",
          "text": [
            "Epochs: 100%|██████████| 100/100 [00:13<00:00,  7.33it/s]"
          ]
        },
        {
          "output_type": "stream",
          "name": "stdout",
          "text": [
            "Epoch 100/100, Loss: 7.8312, Duration: 0.13 sec\n"
          ]
        },
        {
          "output_type": "stream",
          "name": "stderr",
          "text": [
            "\n"
          ]
        }
      ]
    },
    {
      "cell_type": "code",
      "source": [
        "    import numpy as np\n",
        "\n",
        "    true_labels = test_data.y.numpy()\n",
        "    predictions = model_output.argmax(dim=1).numpy()\n",
        "\n",
        "    result = (true_labels - predictions)**2\n",
        "\n",
        "    # Evaluate results (Mean Squared Error and Mean Absolute Error)\n",
        "    mse = np.mean((result)**2)\n",
        "    mae = np.mean(np.abs(true_labels - predictions))\n",
        "\n",
        "    print(\"Mean Squared Error:\", mse)\n",
        "    print(\"Mean Absolute Error:\", mae)"
      ],
      "metadata": {
        "colab": {
          "base_uri": "https://localhost:8080/"
        },
        "id": "NW6W_e3iTyu1",
        "outputId": "88293625-4050-4502-e77b-547fffe178c7"
      },
      "execution_count": 41,
      "outputs": [
        {
          "output_type": "stream",
          "name": "stdout",
          "text": [
            "Mean Squared Error: 501.4729558698046\n",
            "Mean Absolute Error: 1.6331724122038176\n"
          ]
        }
      ]
    }
  ]
}